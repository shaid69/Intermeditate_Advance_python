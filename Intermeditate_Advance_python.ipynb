{
 "cells": [
  {
   "cell_type": "code",
   "execution_count": 15,
   "metadata": {},
   "outputs": [
    {
     "name": "stdout",
     "output_type": "stream",
     "text": [
      "x: 40,  v: 70\n"
     ]
    }
   ],
   "source": [
    "class vactor:\n",
    "    def __init__(self,x,y):\n",
    "        self.x=x\n",
    "        self.y=y\n",
    "       \n",
    "\n",
    "    def __add__(self,c):\n",
    "        return vactor(self.x+c.x,self.y+c.y) \n",
    "\n",
    "    def __repr__(self):\n",
    "        return  f\"x: {self.x},  v: {self.y}\"\n",
    "    \n",
    "    #def __call__(self):\n",
    "        #print(\"my name is shaid\")\n",
    "\n",
    "v1=vactor(10,20)\n",
    "v2=vactor(30,50)\n",
    "v3=v1+v2\n",
    "print(v3)\n",
    "\n"
   ]
  },
  {
   "cell_type": "code",
   "execution_count": null,
   "metadata": {},
   "outputs": [],
   "source": [
    "class person:\n",
    "    def __init__(self,name,age):\n",
    "        self.name=name\n",
    "        self.age=age\n",
    "\n",
    "    def __del__(self):\n",
    "        print(f\"my name is {self.name}.i am {self.age}years old\")\n",
    "\n",
    "   \n",
    "        \n",
    "p=person(\"shaid\",22)\n"
   ]
  },
  {
   "cell_type": "code",
   "execution_count": 2,
   "metadata": {},
   "outputs": [
    {
     "name": "stdout",
     "output_type": "stream",
     "text": [
      "my name is shaid\n"
     ]
    }
   ],
   "source": [
    "class person:\n",
    "    def __init__(self):\n",
    "        print(\"my name is shaid\")\n",
    "x=person()        "
   ]
  },
  {
   "cell_type": "code",
   "execution_count": 3,
   "metadata": {},
   "outputs": [
    {
     "name": "stdout",
     "output_type": "stream",
     "text": [
      "shaid\n",
      "25\n"
     ]
    }
   ],
   "source": [
    "class person:\n",
    "    def __init__(self):\n",
    "        self.name=\"shaid\"\n",
    "        self.age=25\n",
    "\n",
    "x=person()\n",
    "print(x.name)\n",
    "print(x.age)        "
   ]
  },
  {
   "cell_type": "code",
   "execution_count": 3,
   "metadata": {},
   "outputs": [
    {
     "name": "stdout",
     "output_type": "stream",
     "text": [
      "shaid\n",
      "20\n",
      "150\n",
      "nusrat\n",
      "19\n",
      "180\n",
      "ali\n"
     ]
    }
   ],
   "source": [
    "class person:\n",
    "    def __init__(self,name,age,hight):\n",
    "        self.name=name\n",
    "        self.age=age\n",
    "        self.hight=hight\n",
    "\n",
    "x=person(\"shaid\",20,150)\n",
    "print(x.name)\n",
    "print(x.age)\n",
    "print(x.hight)\n",
    "\n",
    "x1=person(\"nusrat\",19,180)\n",
    "print(x1.name)\n",
    "print(x1.age)\n",
    "print(x1.hight)\n",
    "\n",
    "x1.name=\"ali\"\n",
    "print(x1.name)"
   ]
  },
  {
   "cell_type": "code",
   "execution_count": 6,
   "metadata": {},
   "outputs": [
    {
     "name": "stdout",
     "output_type": "stream",
     "text": [
      "name:shaid, age:20, hight:150\n"
     ]
    }
   ],
   "source": [
    "class person:\n",
    "    def __init__(self,name,age,hight):\n",
    "        self.name=name\n",
    "        self.age=age\n",
    "        self.hight=hight\n",
    "\n",
    "    def __str__(self):\n",
    "        return f\"name:{self.name}, age:{self.age}, hight:{self.hight}\"\n",
    "\n",
    "x=person(\"shaid\",20,150)\n",
    "print(x)\n",
    "        "
   ]
  },
  {
   "cell_type": "code",
   "execution_count": 56,
   "metadata": {},
   "outputs": [
    {
     "name": "stdout",
     "output_type": "stream",
     "text": [
      "name:shaid, age:20, hight:150\n",
      "name:nusrat, age:30, hight:150\n",
      "name:nusrat, age:30, hight:150\n",
      "code run: 0\n"
     ]
    }
   ],
   "source": [
    "class person:\n",
    "\n",
    "    amount=0\n",
    "    def __init__(self,name,age,hight,):\n",
    "        self.name=name\n",
    "        self.age=age\n",
    "        self.hight=hight\n",
    "        person.amount+=1\n",
    "\n",
    "    def __del__(self):\n",
    "        person.amount-=1    \n",
    "\n",
    "    def __str__(self):\n",
    "        return f\"name:{self.name}, age:{self.age}, hight:{self.hight}\"\n",
    "    \n",
    "    def get_older(years):\n",
    "        self. age+=years\n",
    "\n",
    "x=person(\"shaid\",20,150)\n",
    "print(x)\n",
    "x1=person(\"nusrat\",30,150)\n",
    "print(x1)\n",
    "x2=person(\"nusrat\",30,150)\n",
    "print(x2)\n",
    "\n",
    "\n",
    "print(\"code run:\",person.amount)\n",
    "        "
   ]
  },
  {
   "cell_type": "code",
   "execution_count": 69,
   "metadata": {},
   "outputs": [
    {
     "name": "stdout",
     "output_type": "stream",
     "text": [
      "name:ali, age:20, hight:180,salary:3000\n",
      "36000\n"
     ]
    }
   ],
   "source": [
    "class person:\n",
    "\n",
    "    amount=0\n",
    "    def __init__(self,name,age,hight,):\n",
    "        self.name=name\n",
    "        self.age=age\n",
    "        self.hight=hight\n",
    "        person.amount+=1\n",
    "    \n",
    "\n",
    "    def __str__(self):\n",
    "        return f\"name:{self.name}, age:{self.age}, hight:{self.hight}\"\n",
    "    \n",
    "    def get_older(years):\n",
    "        self.age+=years\n",
    "\n",
    "class worker(person):\n",
    "    def __init__(self,name,age,hight,salary):\n",
    "        super(worker,self).__init__(name,age,hight)\n",
    "        self.salary=salary\n",
    "    def __str__(self):\n",
    "        x=super(worker,self).__str__()\n",
    "        x+=f\",salary:{self.salary}\"\n",
    "        return x\n",
    "    \n",
    "    def calc_yearly_salary(self):\n",
    "        return self.salary * 12\n",
    "    \n",
    "\n",
    "\n",
    "    \n",
    "y=worker(\"ali\",20,180,3000)\n",
    "print(y)\n",
    "print(y.calc_yearly_salary())\n",
    "\n"
   ]
  },
  {
   "cell_type": "code",
   "execution_count": 73,
   "metadata": {},
   "outputs": [
    {
     "name": "stdout",
     "output_type": "stream",
     "text": [
      "Hello world!\n"
     ]
    }
   ],
   "source": [
    "import threading\n",
    "def helloworld():\n",
    "    print(\"Hello world!\")\n",
    "t=threading.Thread(target=helloworld)\n",
    "t.start()    "
   ]
  },
  {
   "cell_type": "code",
   "execution_count": 84,
   "metadata": {},
   "outputs": [
    {
     "name": "stdout",
     "output_type": "stream",
     "text": [
      "nusrat\n",
      "nusrat\n",
      "nusrat\n",
      "nusrat\n",
      "nusrat\n",
      "shaid\n",
      "shaid\n",
      "shaid\n",
      "shaid\n",
      "shaid\n"
     ]
    }
   ],
   "source": [
    "import threading\n",
    "def function1():\n",
    "    for i in range(5):\n",
    "        print(\"shaid\")\n",
    "def function2():\n",
    "    for i in range(5):\n",
    "        print(\"nusrat\")\n",
    "function2()\n",
    "function1()                \n"
   ]
  },
  {
   "cell_type": "code",
   "execution_count": 89,
   "metadata": {},
   "outputs": [
    {
     "name": "stdout",
     "output_type": "stream",
     "text": [
      "shaid\n",
      "nusrat\n"
     ]
    }
   ],
   "source": [
    "import threading\n",
    "def function1():\n",
    "    for i in range(1):\n",
    "        print(\"shaid\")\n",
    "def function2():\n",
    "    for i in range(1):\n",
    "        print(\"nusrat\")\n",
    "t1=threading.Thread(target=function1)\n",
    "t2=threading.Thread(target=function2)\n",
    "t1.start()\n",
    "t2.start()                \n"
   ]
  },
  {
   "cell_type": "code",
   "execution_count": null,
   "metadata": {},
   "outputs": [],
   "source": []
  }
 ],
 "metadata": {
  "kernelspec": {
   "display_name": "Python 3",
   "language": "python",
   "name": "python3"
  },
  "language_info": {
   "codemirror_mode": {
    "name": "ipython",
    "version": 3
   },
   "file_extension": ".py",
   "mimetype": "text/x-python",
   "name": "python",
   "nbconvert_exporter": "python",
   "pygments_lexer": "ipython3",
   "version": "3.11.3"
  },
  "orig_nbformat": 4
 },
 "nbformat": 4,
 "nbformat_minor": 2
}
